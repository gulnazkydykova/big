
   "source": [
    "<h1> HOMEWORK LAB 2</h1>"
   ],
   "metadata": {
    "collapsed": false
   },
   "id": "5c8a8e1d54ce8b21"
  },
  {
   "cell_type": "markdown",
   "source": [
    "<p>Создайте одномерный массив my_array, в котором по порядку все числа до 100,\n",
    "кратные 5</p>"
   ],
   "metadata": {
    "collapsed": false
   },
   "id": "1546bc77100b43ad"
  },
  {
   "cell_type": "code",
   "execution_count": 41,
   "outputs": [
    {
     "data": {
      "text/plain": "array([[  5,  10,  15,  20,  25],\n       [ 30,  35,  40,  45,  50],\n       [ 55,  60,  65,  70,  75],\n       [ 80,  85,  90,  95, 100]])"
     },
     "execution_count": 41,
     "metadata": {},
     "output_type": "execute_result"
    }
   ],
   "source": [
    "my_array = np.arange(5,101,5).reshape(4,5)\n",
    "my_array"
   ],
   "metadata": {
    "collapsed": false,
    "ExecuteTime": {
     "end_time": "2023-10-03T09:18:46.015429Z",
     "start_time": "2023-10-03T09:18:45.664510900Z"
    }
   },
   "id": "89bbbfe96c250284"
  },
  {
   "cell_type": "markdown",
   "source": [
    "<p>Из полученного массива получить массив с кратными 10 числами</p>"
   ],
   "metadata": {
    "collapsed": false
   },
   "id": "eef650b689242fe9"
  },
  {
   "cell_type": "code",
   "execution_count": 42,
   "outputs": [
    {
     "data": {
      "text/plain": "array([[ 10,  20,  30,  40,  50],\n       [ 60,  70,  80,  90, 100]])"
     },
     "execution_count": 42,
     "metadata": {},
     "output_type": "execute_result"
    }
   ],
   "source": [
    "(my_array[my_array%10==0]).reshape(2,5)"
   ],
   "metadata": {
    "collapsed": false,
    "ExecuteTime": {
     "end_time": "2023-10-03T09:18:46.015429Z",
     "start_time": "2023-10-03T09:18:45.680132900Z"
    }
   },
   "id": "7517278ee0d3fb62"
  },
  {
   "cell_type": "markdown",
   "source": [
    "Получить двумерный массив с двумя столбцами"
   ],
   "metadata": {
    "collapsed": false
   },
   "id": "1b813b05b08a2a24"
  },
  {
   "cell_type": "code",
   "execution_count": 43,
   "outputs": [
    {
     "data": {
      "text/plain": "array([[1., 1.],\n       [1., 1.]])"
     },
     "execution_count": 43,
     "metadata": {},
     "output_type": "execute_result"
    }
   ],
   "source": [
    "a = np.ones([2,2])\n",
    "a"
   ],
   "metadata": {
    "collapsed": false,
    "ExecuteTime": {
     "end_time": "2023-10-03T09:18:46.015429Z",
     "start_time": "2023-10-03T09:18:45.696828500Z"
    }
   },
   "id": "48fd1448d0372816"
  },
  {
   "cell_type": "markdown",
   "source": [
    "Получите набор my_second_array, в котором все элементы меньше предыдущего\n",
    "исходного на 5"
   ],
   "metadata": {
    "collapsed": false
   },
   "id": "33a2d495f59a42bb"
  },
  {
   "cell_type": "code",
   "execution_count": 44,
   "outputs": [
    {
     "data": {
      "text/plain": "array([[ 0,  5, 10, 15, 20],\n       [25, 30, 35, 40, 45],\n       [50, 55, 60, 65, 70],\n       [75, 80, 85, 90, 95]])"
     },
     "execution_count": 44,
     "metadata": {},
     "output_type": "execute_result"
    }
   ],
   "source": [
    "my_second_array = my_array - 5\n",
    "my_second_array"
   ],
   "metadata": {
    "collapsed": false,
    "ExecuteTime": {
     "end_time": "2023-10-03T09:18:46.022542900Z",
     "start_time": "2023-10-03T09:18:45.719468300Z"
    }
   },
   "id": "8c86b0cd40604551"
  },
  {
   "cell_type": "markdown",
   "source": [
    "Соедините массивы, полученные в п. 3.1 и 4.1, горизонтально. Используйте .T для\n",
    "транспонирования матрицы."
   ],
   "metadata": {
    "collapsed": false
   },
   "id": "af8e05fba23800ec"
  },
  {
   "cell_type": "code",
   "execution_count": 45,
   "outputs": [
    {
     "data": {
      "text/plain": "array([[ 1.,  1.,  0.,  5., 10., 15., 20., 25., 30., 35., 40., 45.],\n       [ 1.,  1., 50., 55., 60., 65., 70., 75., 80., 85., 90., 95.]])"
     },
     "execution_count": 45,
     "metadata": {},
     "output_type": "execute_result"
    }
   ],
   "source": [
    "r = np.hstack((a.T, my_second_array.reshape(2,10)))\n",
    "r"
   ],
   "metadata": {
    "collapsed": false,
    "ExecuteTime": {
     "end_time": "2023-10-03T09:18:46.022542900Z",
     "start_time": "2023-10-03T09:18:45.735083Z"
    }
   },
   "id": "780cbef11671046d"
  },
  {
   "cell_type": "markdown",
   "source": [
    "Разделите 2 и 3 строку на 4 верхних строки my_array. Используйте .T для\n",
    "транспонирования матрицы"
   ],
   "metadata": {
    "collapsed": false
   },
   "id": "db742a34febe31d9"
  },
  {
   "cell_type": "code",
   "execution_count": 46,
   "outputs": [
    {
     "data": {
      "text/plain": "array([[30, 35, 40, 45, 50],\n       [55, 60, 65, 70, 75]])"
     },
     "execution_count": 46,
     "metadata": {},
     "output_type": "execute_result"
    }
   ],
   "source": [
    "a = my_array[1:3]\n",
    "a"
   ],
   "metadata": {
    "collapsed": false,
    "ExecuteTime": {
     "end_time": "2023-10-03T09:18:46.022542900Z",
     "start_time": "2023-10-03T09:18:45.744028Z"
    }
   },
   "id": "236abab8fe9cb5c7"
  },
  {
   "cell_type": "code",
   "execution_count": 47,
   "outputs": [
    {
     "data": {
      "text/plain": "array([[ 6.        ,  3.5       ,  2.66666667,  2.25      ,  2.        ],\n       [11.        ,  6.        ,  4.33333333,  3.5       ,  3.        ]])"
     },
     "execution_count": 47,
     "metadata": {},
     "output_type": "execute_result"
    }
   ],
   "source": [
    "b = a/my_array[:1]\n",
    "b"
   ],
   "metadata": {
    "collapsed": false,
    "ExecuteTime": {
     "end_time": "2023-10-03T09:18:46.022542900Z",
     "start_time": "2023-10-03T09:18:45.759044300Z"
    }
   },
   "id": "83932a4b5ab94e2a"
  },
  {
   "cell_type": "markdown",
   "source": [
    "Оставить только те значения, которые не изменились после деления"
   ],
   "metadata": {
    "collapsed": false
   },
   "id": "47635bf8bd11407f"
  },
  {
   "cell_type": "code",
   "execution_count": 48,
   "outputs": [
    {
     "data": {
      "text/plain": "array([], dtype=int32)"
     },
     "execution_count": 48,
     "metadata": {},
     "output_type": "execute_result"
    }
   ],
   "source": [
    "unCh = a[a == b]\n",
    "unCh\n"
   ],
   "metadata": {
    "collapsed": false,
    "ExecuteTime": {
     "end_time": "2023-10-03T09:18:46.101355500Z",
     "start_time": "2023-10-03T09:18:45.774684400Z"
    }
   },
   "id": "6fadba7c3901563"
  },
  {
   "cell_type": "markdown",
   "source": [
    "Снова получить трехстрочный двумерный массив и поменять местами первую и третью строки"
   ],
   "metadata": {
    "collapsed": false
   },
   "id": "3923b7de2c3508cc"
  },
  {
   "cell_type": "code",
   "execution_count": 49,
   "outputs": [
    {
     "data": {
      "text/plain": "array([[ 5, 10, 15, 20, 25],\n       [30, 35, 40, 45, 50],\n       [55, 60, 65, 70, 75]])"
     },
     "execution_count": 49,
     "metadata": {},
     "output_type": "execute_result"
    }
   ],
   "source": [
    "a = my_array[:3]\n",
    "a"
   ],
   "metadata": {
    "collapsed": false,
    "ExecuteTime": {
     "end_time": "2023-10-03T09:18:46.137482100Z",
     "start_time": "2023-10-03T09:18:45.808066400Z"
    }
   },
   "id": "a8feb6fad82c3f1e"
  },
  {
   "cell_type": "code",
   "execution_count": 50,
   "outputs": [
    {
     "data": {
      "text/plain": "array([[30, 35, 40, 45, 50],\n       [30, 35, 40, 45, 50],\n       [55, 60, 65, 70, 75]])"
     },
     "execution_count": 50,
     "metadata": {},
     "output_type": "execute_result"
    }
   ],
   "source": [
    "a[0] = a[1]\n",
    "a"
   ],
   "metadata": {
    "collapsed": false,
    "ExecuteTime": {
     "end_time": "2023-10-03T09:18:46.137482100Z",
     "start_time": "2023-10-03T09:18:45.826725700Z"
    }
   },
   "id": "92a555f71c89f669"
  },
  {
   "cell_type": "markdown",
   "source": [
    "Получить среднее, медиану и стандартное отклонение для каждой строки,\n",
    "используя команды np.mean(), np.median(), np.std()"
   ],
   "metadata": {
    "collapsed": false
   },
   "id": "acb1a1dbb9d4ece9"
  },
  {
   "cell_type": "code",
   "execution_count": 51,
   "outputs": [
    {
     "data": {
      "text/plain": "58.75"
     },
     "execution_count": 51,
     "metadata": {},
     "output_type": "execute_result"
    }
   ],
   "source": [
    "np.mean(my_array)"
   ],
   "metadata": {
    "collapsed": false,
    "ExecuteTime": {
     "end_time": "2023-10-03T09:18:46.137482100Z",
     "start_time": "2023-10-03T09:18:45.850563300Z"
    }
   },
   "id": "3aa4c23543c4efd9"
  },
  {
   "cell_type": "code",
   "execution_count": 52,
   "outputs": [
    {
     "data": {
      "text/plain": "52.5"
     },
     "execution_count": 52,
     "metadata": {},
     "output_type": "execute_result"
    }
   ],
   "source": [
    "np.median(my_array)"
   ],
   "metadata": {
    "collapsed": false,
    "ExecuteTime": {
     "end_time": "2023-10-03T09:18:46.137482100Z",
     "start_time": "2023-10-03T09:18:45.857581Z"
    }
   },
   "id": "e9debad601dee8c3"
  },
  {
   "cell_type": "code",
   "execution_count": 53,
   "outputs": [
    {
     "data": {
      "text/plain": "21.901769334919038"
     },
     "execution_count": 53,
     "metadata": {},
     "output_type": "execute_result"
    }
   ],
   "source": [
    "np.std(my_array)"
   ],
   "metadata": {
    "collapsed": false,
    "ExecuteTime": {
     "end_time": "2023-10-03T09:18:46.497725300Z",
     "start_time": "2023-10-03T09:18:45.882874200Z"
    }
   },
   "id": "ed152647ec0446ba"
  },
  {
   "cell_type": "markdown",
   "source": [
    "Сделать нормализацию на максимальное значение вдоль строк, поделив\n",
    "каждый элемент массива на max() вдоль строк"
   ],
   "metadata": {
    "collapsed": false
   },
   "id": "ebd8177db16b0846"
  },
  {
   "cell_type": "code",
   "execution_count": 54,
   "outputs": [
    {
     "data": {
      "text/plain": "50"
     },
     "execution_count": 54,
     "metadata": {},
     "output_type": "execute_result"
    }
   ],
   "source": [
    "(my_array[0]).max()\n"
   ],
   "metadata": {
    "collapsed": false,
    "ExecuteTime": {
     "end_time": "2023-10-03T09:18:46.497725300Z",
     "start_time": "2023-10-03T09:18:45.893010100Z"
    }
   },
   "id": "e875269e62856587"
  },
  {
   "cell_type": "code",
   "execution_count": 55,
   "outputs": [
    {
     "data": {
      "text/plain": "50"
     },
     "execution_count": 55,
     "metadata": {},
     "output_type": "execute_result"
    }
   ],
   "source": [
    "(my_array[1]).max()\n"
   ],
   "metadata": {
    "collapsed": false,
    "ExecuteTime": {
     "end_time": "2023-10-03T09:18:46.607152100Z",
     "start_time": "2023-10-03T09:18:45.905017900Z"
    }
   },
   "id": "779399a637b20014"
  },
  {
   "cell_type": "code",
   "execution_count": 56,
   "outputs": [
    {
     "data": {
      "text/plain": "75"
     },
     "execution_count": 56,
     "metadata": {},
     "output_type": "execute_result"
    }
   ],
   "source": [
    "(my_array[2]).max()"
   ],
   "metadata": {
    "collapsed": false,
    "ExecuteTime": {
     "end_time": "2023-10-03T09:18:46.607152100Z",
     "start_time": "2023-10-03T09:18:45.920662200Z"
    }
   },
   "id": "3f7488a3543836e3"
  },
  {
   "cell_type": "markdown",
   "source": [],
   "metadata": {
    "collapsed": false
   },
   "id": "5f37c9fca9a79ff7"
  },
  {
   "cell_type": "markdown",
   "source": [
    "<h2>Использование команд библиотеки pandas</h2>\n",
    "<p>Импортируйте данные из файла “Global Population Trends(2016-2022).csv”. Описание\n",
    "данных смотрите ниже.</p>"
   ],
   "metadata": {
    "collapsed": false
   },
   "id": "f42c93f96fdd5879"
  },
  {
   "cell_type": "code",
   "execution_count": 57,
   "outputs": [
    {
     "data": {
      "text/plain": "          Country  Year Total Population Urban Population Rural Population  \\\n0     Afghanistan  2017                -                -                -   \n1     Afghanistan  2018       36,686,784        9,353,296       27,333,488   \n2     Afghanistan  2019       37,769,499        9,727,157       28,042,342   \n3     Afghanistan  2020       38,972,230       10,142,913       28,829,317   \n4     Afghanistan  2021       40,099,462       10,551,772       29,547,690   \n...           ...   ...              ...              ...              ...   \n1068     Zimbabwe  2017                -                -                -   \n1069     Zimbabwe  2018       15,052,184        4,848,158       10,204,026   \n1070     Zimbabwe  2019       15,354,608        4,945,719       10,408,889   \n1071     Zimbabwe  2020       15,669,666        5,052,214       10,617,452   \n1072     Zimbabwe  2021       15,993,524        5,166,388       10,827,136   \n\n     Population Density Life Expectancy  Birth Rate  Death Rate  \\\n0                    55            63.0      37.342       7.027   \n1                    56            63.0      36.927       6.981   \n2                    58            64.0      36.466       6.791   \n3                    60            63.0      36.051       7.113   \n4                     -            62.0      35.842       7.344   \n...                 ...             ...         ...         ...   \n1068                 38            61.0      32.516       8.266   \n1069                 39            61.0      32.074       7.972   \n1070                 40            61.0      31.518       8.043   \n1071                 41            61.0      31.009       8.132   \n1072                  -            59.0      30.537       9.057   \n\n     Fertility Rate Infant Mortality Rate Growth Rate  \n0             5.129                  49.4           -  \n1             5.002                  47.8         3.0  \n2              4.87                  46.3         3.0  \n3              4.75                  44.8         3.0  \n4             4.643                  43.4         3.0  \n...             ...                   ...         ...  \n1068          3.706                  39.5           -  \n1069          3.659                  38.0         2.0  \n1070          3.599                  37.1         2.0  \n1071          3.545                  36.6         2.0  \n1072          3.491                  35.7         2.0  \n\n[1073 rows x 12 columns]",
      "text/html": "<div>\n<style scoped>\n    .dataframe tbody tr th:only-of-type {\n        vertical-align: middle;\n    }\n\n    .dataframe tbody tr th {\n        vertical-align: top;\n    }\n\n    .dataframe thead th {\n        text-align: right;\n    }\n</style>\n<table border=\"1\" class=\"dataframe\">\n  <thead>\n    <tr style=\"text-align: right;\">\n      <th></th>\n      <th>Country</th>\n      <th>Year</th>\n      <th>Total Population</th>\n      <th>Urban Population</th>\n      <th>Rural Population</th>\n      <th>Population Density</th>\n      <th>Life Expectancy</th>\n      <th>Birth Rate</th>\n      <th>Death Rate</th>\n      <th>Fertility Rate</th>\n      <th>Infant Mortality Rate</th>\n      <th>Growth Rate</th>\n    </tr>\n  </thead>\n  <tbody>\n    <tr>\n      <th>0</th>\n      <td>Afghanistan</td>\n      <td>2017</td>\n      <td>-</td>\n      <td>-</td>\n      <td>-</td>\n      <td>55</td>\n      <td>63.0</td>\n      <td>37.342</td>\n      <td>7.027</td>\n      <td>5.129</td>\n      <td>49.4</td>\n      <td>-</td>\n    </tr>\n    <tr>\n      <th>1</th>\n      <td>Afghanistan</td>\n      <td>2018</td>\n      <td>36,686,784</td>\n      <td>9,353,296</td>\n      <td>27,333,488</td>\n      <td>56</td>\n      <td>63.0</td>\n      <td>36.927</td>\n      <td>6.981</td>\n      <td>5.002</td>\n      <td>47.8</td>\n      <td>3.0</td>\n    </tr>\n    <tr>\n      <th>2</th>\n      <td>Afghanistan</td>\n      <td>2019</td>\n      <td>37,769,499</td>\n      <td>9,727,157</td>\n      <td>28,042,342</td>\n      <td>58</td>\n      <td>64.0</td>\n      <td>36.466</td>\n      <td>6.791</td>\n      <td>4.87</td>\n      <td>46.3</td>\n      <td>3.0</td>\n    </tr>\n    <tr>\n      <th>3</th>\n      <td>Afghanistan</td>\n      <td>2020</td>\n      <td>38,972,230</td>\n      <td>10,142,913</td>\n      <td>28,829,317</td>\n      <td>60</td>\n      <td>63.0</td>\n      <td>36.051</td>\n      <td>7.113</td>\n      <td>4.75</td>\n      <td>44.8</td>\n      <td>3.0</td>\n    </tr>\n    <tr>\n      <th>4</th>\n      <td>Afghanistan</td>\n      <td>2021</td>\n      <td>40,099,462</td>\n      <td>10,551,772</td>\n      <td>29,547,690</td>\n      <td>-</td>\n      <td>62.0</td>\n      <td>35.842</td>\n      <td>7.344</td>\n      <td>4.643</td>\n      <td>43.4</td>\n      <td>3.0</td>\n    </tr>\n    <tr>\n      <th>...</th>\n      <td>...</td>\n      <td>...</td>\n      <td>...</td>\n      <td>...</td>\n      <td>...</td>\n      <td>...</td>\n      <td>...</td>\n      <td>...</td>\n      <td>...</td>\n      <td>...</td>\n      <td>...</td>\n      <td>...</td>\n    </tr>\n    <tr>\n      <th>1068</th>\n      <td>Zimbabwe</td>\n      <td>2017</td>\n      <td>-</td>\n      <td>-</td>\n      <td>-</td>\n      <td>38</td>\n      <td>61.0</td>\n      <td>32.516</td>\n      <td>8.266</td>\n      <td>3.706</td>\n      <td>39.5</td>\n      <td>-</td>\n    </tr>\n    <tr>\n      <th>1069</th>\n      <td>Zimbabwe</td>\n      <td>2018</td>\n      <td>15,052,184</td>\n      <td>4,848,158</td>\n      <td>10,204,026</td>\n      <td>39</td>\n      <td>61.0</td>\n      <td>32.074</td>\n      <td>7.972</td>\n      <td>3.659</td>\n      <td>38.0</td>\n      <td>2.0</td>\n    </tr>\n    <tr>\n      <th>1070</th>\n      <td>Zimbabwe</td>\n      <td>2019</td>\n      <td>15,354,608</td>\n      <td>4,945,719</td>\n      <td>10,408,889</td>\n      <td>40</td>\n      <td>61.0</td>\n      <td>31.518</td>\n      <td>8.043</td>\n      <td>3.599</td>\n      <td>37.1</td>\n      <td>2.0</td>\n    </tr>\n    <tr>\n      <th>1071</th>\n      <td>Zimbabwe</td>\n      <td>2020</td>\n      <td>15,669,666</td>\n      <td>5,052,214</td>\n      <td>10,617,452</td>\n      <td>41</td>\n      <td>61.0</td>\n      <td>31.009</td>\n      <td>8.132</td>\n      <td>3.545</td>\n      <td>36.6</td>\n      <td>2.0</td>\n    </tr>\n    <tr>\n      <th>1072</th>\n      <td>Zimbabwe</td>\n      <td>2021</td>\n      <td>15,993,524</td>\n      <td>5,166,388</td>\n      <td>10,827,136</td>\n      <td>-</td>\n      <td>59.0</td>\n      <td>30.537</td>\n      <td>9.057</td>\n      <td>3.491</td>\n      <td>35.7</td>\n      <td>2.0</td>\n    </tr>\n  </tbody>\n</table>\n<p>1073 rows × 12 columns</p>\n</div>"
     },
     "execution_count": 57,
     "metadata": {},
     "output_type": "execute_result"
    }
   ],
   "source": [
    "global_data = pd.read_csv('global.csv')\n",
    "global_data"
   ],
   "metadata": {
    "collapsed": false,
    "ExecuteTime": {
     "end_time": "2023-10-03T09:18:46.622776600Z",
     "start_time": "2023-10-03T09:18:45.936284700Z"
    }
   },
   "id": "209b6be5ca9dbf54"
  },
  {
   "cell_type": "markdown",
   "source": [
    "Считайте несколько первых записей таблицы (head())"
   ],
   "metadata": {
    "collapsed": false
   },
   "id": "35a5a4eb708847ef"
  },
  {
   "cell_type": "code",
   "execution_count": 58,
   "outputs": [
    {
     "data": {
      "text/plain": "       Country  Year Total Population Urban Population Rural Population  \\\n0  Afghanistan  2017                -                -                -   \n1  Afghanistan  2018       36,686,784        9,353,296       27,333,488   \n2  Afghanistan  2019       37,769,499        9,727,157       28,042,342   \n3  Afghanistan  2020       38,972,230       10,142,913       28,829,317   \n4  Afghanistan  2021       40,099,462       10,551,772       29,547,690   \n5      Albania  2017                -                -                -   \n6      Albania  2018        2,866,376        1,728,969        1,137,407   \n7      Albania  2019        2,854,191        1,747,593        1,106,598   \n8      Albania  2020        2,837,849        1,762,645        1,075,204   \n9      Albania  2021        2,811,666        1,770,478        1,041,188   \n\n  Population Density Life Expectancy  Birth Rate  Death Rate Fertility Rate  \\\n0                 55            63.0      37.342       7.027          5.129   \n1                 56            63.0      36.927       6.981          5.002   \n2                 58            64.0      36.466       6.791           4.87   \n3                 60            63.0      36.051       7.113           4.75   \n4                  -            62.0      35.842       7.344          4.643   \n5                105            79.0      10.870       8.150          1.491   \n6                105            79.0      10.517       8.308           1.44   \n7                104            79.0      10.343       8.480          1.414   \n8                104            77.0      10.285      10.785            1.4   \n9                  -            76.0      10.240      11.325           1.39   \n\n  Infant Mortality Rate Growth Rate  \n0                  49.4           -  \n1                  47.8         3.0  \n2                  46.3         3.0  \n3                  44.8         3.0  \n4                  43.4         3.0  \n5                   8.3           -  \n6                   8.3         0.0  \n7                   8.4         0.0  \n8                   8.4        -1.0  \n9                   8.4        -1.0  ",
      "text/html": "<div>\n<style scoped>\n    .dataframe tbody tr th:only-of-type {\n        vertical-align: middle;\n    }\n\n    .dataframe tbody tr th {\n        vertical-align: top;\n    }\n\n    .dataframe thead th {\n        text-align: right;\n    }\n</style>\n<table border=\"1\" class=\"dataframe\">\n  <thead>\n    <tr style=\"text-align: right;\">\n      <th></th>\n      <th>Country</th>\n      <th>Year</th>\n      <th>Total Population</th>\n      <th>Urban Population</th>\n      <th>Rural Population</th>\n      <th>Population Density</th>\n      <th>Life Expectancy</th>\n      <th>Birth Rate</th>\n      <th>Death Rate</th>\n      <th>Fertility Rate</th>\n      <th>Infant Mortality Rate</th>\n      <th>Growth Rate</th>\n    </tr>\n  </thead>\n  <tbody>\n    <tr>\n      <th>0</th>\n      <td>Afghanistan</td>\n      <td>2017</td>\n      <td>-</td>\n      <td>-</td>\n      <td>-</td>\n      <td>55</td>\n      <td>63.0</td>\n      <td>37.342</td>\n      <td>7.027</td>\n      <td>5.129</td>\n      <td>49.4</td>\n      <td>-</td>\n    </tr>\n    <tr>\n      <th>1</th>\n      <td>Afghanistan</td>\n      <td>2018</td>\n      <td>36,686,784</td>\n      <td>9,353,296</td>\n      <td>27,333,488</td>\n      <td>56</td>\n      <td>63.0</td>\n      <td>36.927</td>\n      <td>6.981</td>\n      <td>5.002</td>\n      <td>47.8</td>\n      <td>3.0</td>\n    </tr>\n    <tr>\n      <th>2</th>\n      <td>Afghanistan</td>\n      <td>2019</td>\n      <td>37,769,499</td>\n      <td>9,727,157</td>\n      <td>28,042,342</td>\n      <td>58</td>\n      <td>64.0</td>\n      <td>36.466</td>\n      <td>6.791</td>\n      <td>4.87</td>\n      <td>46.3</td>\n      <td>3.0</td>\n    </tr>\n    <tr>\n      <th>3</th>\n      <td>Afghanistan</td>\n      <td>2020</td>\n      <td>38,972,230</td>\n      <td>10,142,913</td>\n      <td>28,829,317</td>\n      <td>60</td>\n      <td>63.0</td>\n      <td>36.051</td>\n      <td>7.113</td>\n      <td>4.75</td>\n      <td>44.8</td>\n      <td>3.0</td>\n    </tr>\n    <tr>\n      <th>4</th>\n      <td>Afghanistan</td>\n      <td>2021</td>\n      <td>40,099,462</td>\n      <td>10,551,772</td>\n      <td>29,547,690</td>\n      <td>-</td>\n      <td>62.0</td>\n      <td>35.842</td>\n      <td>7.344</td>\n      <td>4.643</td>\n      <td>43.4</td>\n      <td>3.0</td>\n    </tr>\n    <tr>\n      <th>5</th>\n      <td>Albania</td>\n      <td>2017</td>\n      <td>-</td>\n      <td>-</td>\n      <td>-</td>\n      <td>105</td>\n      <td>79.0</td>\n      <td>10.870</td>\n      <td>8.150</td>\n      <td>1.491</td>\n      <td>8.3</td>\n      <td>-</td>\n    </tr>\n    <tr>\n      <th>6</th>\n      <td>Albania</td>\n      <td>2018</td>\n      <td>2,866,376</td>\n      <td>1,728,969</td>\n      <td>1,137,407</td>\n      <td>105</td>\n      <td>79.0</td>\n      <td>10.517</td>\n      <td>8.308</td>\n      <td>1.44</td>\n      <td>8.3</td>\n      <td>0.0</td>\n    </tr>\n    <tr>\n      <th>7</th>\n      <td>Albania</td>\n      <td>2019</td>\n      <td>2,854,191</td>\n      <td>1,747,593</td>\n      <td>1,106,598</td>\n      <td>104</td>\n      <td>79.0</td>\n      <td>10.343</td>\n      <td>8.480</td>\n      <td>1.414</td>\n      <td>8.4</td>\n      <td>0.0</td>\n    </tr>\n    <tr>\n      <th>8</th>\n      <td>Albania</td>\n      <td>2020</td>\n      <td>2,837,849</td>\n      <td>1,762,645</td>\n      <td>1,075,204</td>\n      <td>104</td>\n      <td>77.0</td>\n      <td>10.285</td>\n      <td>10.785</td>\n      <td>1.4</td>\n      <td>8.4</td>\n      <td>-1.0</td>\n    </tr>\n    <tr>\n      <th>9</th>\n      <td>Albania</td>\n      <td>2021</td>\n      <td>2,811,666</td>\n      <td>1,770,478</td>\n      <td>1,041,188</td>\n      <td>-</td>\n      <td>76.0</td>\n      <td>10.240</td>\n      <td>11.325</td>\n      <td>1.39</td>\n      <td>8.4</td>\n      <td>-1.0</td>\n    </tr>\n  </tbody>\n</table>\n</div>"
     },
     "execution_count": 58,
     "metadata": {},
     "output_type": "execute_result"
    }
   ],
   "source": [
    "global_data.head(10)"
   ],
   "metadata": {
    "collapsed": false,
    "ExecuteTime": {
     "end_time": "2023-10-03T09:18:46.748706800Z",
     "start_time": "2023-10-03T09:18:46.015429Z"
    }
   },
   "id": "15c33d3a9556e571"
  },
  {
   "cell_type": "markdown",
   "source": [
    "Определите размерность данного фрейма (shape())"
   ],
   "metadata": {
    "collapsed": false
   },
   "id": "f11fffb6653e0403"
  },
  {
   "cell_type": "code",
   "execution_count": 59,
   "outputs": [
    {
     "data": {
      "text/plain": "(1073, 12)"
     },
     "execution_count": 59,
     "metadata": {},
     "output_type": "execute_result"
    }
   ],
   "source": [
    "global_data.shape"
   ],
   "metadata": {
    "collapsed": false,
    "ExecuteTime": {
     "end_time": "2023-10-03T09:18:46.795854500Z",
     "start_time": "2023-10-03T09:18:46.038201900Z"
    }
   },
   "id": "291e652fdc5ad837"
  },
  {
   "cell_type": "markdown",
   "source": [
    "Выведите название заголовков столбцов фрейма (columns)"
   ],
   "metadata": {
    "collapsed": false
   },
   "id": "8866f173afb5b03"
  },
  {
   "cell_type": "code",
   "execution_count": 60,
   "outputs": [
    {
     "data": {
      "text/plain": "Index(['Country', 'Year', 'Total Population', 'Urban Population',\n       'Rural Population', 'Population Density', 'Life Expectancy',\n       'Birth Rate', 'Death Rate', 'Fertility Rate', 'Infant Mortality Rate',\n       'Growth Rate'],\n      dtype='object')"
     },
     "execution_count": 60,
     "metadata": {},
     "output_type": "execute_result"
    }
   ],
   "source": [
    "global_data.columns"
   ],
   "metadata": {
    "collapsed": false,
    "ExecuteTime": {
     "end_time": "2023-10-03T09:18:46.795854500Z",
     "start_time": "2023-10-03T09:18:46.054065700Z"
    }
   },
   "id": "75fc4519402f20c6"
  },
  {
   "cell_type": "markdown",
   "source": [
    "Получите описание всех переменных (полей) (info())"
   ],
   "metadata": {
    "collapsed": false
   },
   "id": "c783377f783b5739"
  },
  {
   "cell_type": "code",
   "execution_count": 61,
   "outputs": [
    {
     "name": "stdout",
     "output_type": "stream",
     "text": [
      "<class 'pandas.core.frame.DataFrame'>\n",
      "RangeIndex: 1073 entries, 0 to 1072\n",
      "Data columns (total 12 columns):\n",
      " #   Column                 Non-Null Count  Dtype  \n",
      "---  ------                 --------------  -----  \n",
      " 0   Country                1073 non-null   object \n",
      " 1   Year                   1073 non-null   int64  \n",
      " 2   Total Population       1073 non-null   object \n",
      " 3   Urban Population       1073 non-null   object \n",
      " 4   Rural Population       1073 non-null   object \n",
      " 5   Population Density     1073 non-null   object \n",
      " 6   Life Expectancy        1073 non-null   object \n",
      " 7   Birth Rate             1073 non-null   float64\n",
      " 8   Death Rate             1073 non-null   float64\n",
      " 9   Fertility Rate         1073 non-null   object \n",
      " 10  Infant Mortality Rate  1073 non-null   object \n",
      " 11  Growth Rate            1073 non-null   object \n",
      "dtypes: float64(2), int64(1), object(9)\n",
      "memory usage: 100.7+ KB\n"
     ]
    }
   ],
   "source": [
    "global_data.info()"
   ],
   "metadata": {
    "collapsed": false,
    "ExecuteTime": {
     "end_time": "2023-10-03T09:18:46.858614600Z",
     "start_time": "2023-10-03T09:18:46.075348200Z"
    }
   },
   "id": "5458b87385360239"
  },
  {
   "cell_type": "markdown",
   "source": [
    "Удалите строки, не содержащие значения в столбце «Total Population» - “-”"
   ],
   "metadata": {
    "collapsed": false
   },
   "id": "8e2f3df1441cd7a3"
  },
  {
   "cell_type": "code",
   "execution_count": 62,
   "outputs": [
    {
     "data": {
      "text/plain": "          Country  Year Total Population Urban Population Rural Population  \\\n1     Afghanistan  2018       36,686,784        9,353,296       27,333,488   \n2     Afghanistan  2019       37,769,499        9,727,157       28,042,342   \n3     Afghanistan  2020       38,972,230       10,142,913       28,829,317   \n4     Afghanistan  2021       40,099,462       10,551,772       29,547,690   \n6         Albania  2018        2,866,376        1,728,969        1,137,407   \n...           ...   ...              ...              ...              ...   \n1067       Zambia  2021       19,473,125        8,800,295       10,672,830   \n1069     Zimbabwe  2018       15,052,184        4,848,158       10,204,026   \n1070     Zimbabwe  2019       15,354,608        4,945,719       10,408,889   \n1071     Zimbabwe  2020       15,669,666        5,052,214       10,617,452   \n1072     Zimbabwe  2021       15,993,524        5,166,388       10,827,136   \n\n     Population Density Life Expectancy  Birth Rate  Death Rate  \\\n1                    56            63.0      36.927       6.981   \n2                    58            64.0      36.466       6.791   \n3                    60            63.0      36.051       7.113   \n4                     -            62.0      35.842       7.344   \n6                   105            79.0      10.517       8.308   \n...                 ...             ...         ...         ...   \n1067                  -            61.0      34.511       6.973   \n1069                 39            61.0      32.074       7.972   \n1070                 40            61.0      31.518       8.043   \n1071                 41            61.0      31.009       8.132   \n1072                  -            59.0      30.537       9.057   \n\n     Fertility Rate Infant Mortality Rate Growth Rate  \n1             5.002                  47.8         3.0  \n2              4.87                  46.3         3.0  \n3              4.75                  44.8         3.0  \n4             4.643                  43.4         3.0  \n6              1.44                   8.3         0.0  \n...             ...                   ...         ...  \n1067          4.308                  40.2         3.0  \n1069          3.659                  38.0         2.0  \n1070          3.599                  37.1         2.0  \n1071          3.545                  36.6         2.0  \n1072          3.491                  35.7         2.0  \n\n[864 rows x 12 columns]",
      "text/html": "<div>\n<style scoped>\n    .dataframe tbody tr th:only-of-type {\n        vertical-align: middle;\n    }\n\n    .dataframe tbody tr th {\n        vertical-align: top;\n    }\n\n    .dataframe thead th {\n        text-align: right;\n    }\n</style>\n<table border=\"1\" class=\"dataframe\">\n  <thead>\n    <tr style=\"text-align: right;\">\n      <th></th>\n      <th>Country</th>\n      <th>Year</th>\n      <th>Total Population</th>\n      <th>Urban Population</th>\n      <th>Rural Population</th>\n      <th>Population Density</th>\n      <th>Life Expectancy</th>\n      <th>Birth Rate</th>\n      <th>Death Rate</th>\n      <th>Fertility Rate</th>\n      <th>Infant Mortality Rate</th>\n      <th>Growth Rate</th>\n    </tr>\n  </thead>\n  <tbody>\n    <tr>\n      <th>1</th>\n      <td>Afghanistan</td>\n      <td>2018</td>\n      <td>36,686,784</td>\n      <td>9,353,296</td>\n      <td>27,333,488</td>\n      <td>56</td>\n      <td>63.0</td>\n      <td>36.927</td>\n      <td>6.981</td>\n      <td>5.002</td>\n      <td>47.8</td>\n      <td>3.0</td>\n    </tr>\n    <tr>\n      <th>2</th>\n      <td>Afghanistan</td>\n      <td>2019</td>\n      <td>37,769,499</td>\n      <td>9,727,157</td>\n      <td>28,042,342</td>\n      <td>58</td>\n      <td>64.0</td>\n      <td>36.466</td>\n      <td>6.791</td>\n      <td>4.87</td>\n      <td>46.3</td>\n      <td>3.0</td>\n    </tr>\n    <tr>\n      <th>3</th>\n      <td>Afghanistan</td>\n      <td>2020</td>\n      <td>38,972,230</td>\n      <td>10,142,913</td>\n      <td>28,829,317</td>\n      <td>60</td>\n      <td>63.0</td>\n      <td>36.051</td>\n      <td>7.113</td>\n      <td>4.75</td>\n      <td>44.8</td>\n      <td>3.0</td>\n    </tr>\n    <tr>\n      <th>4</th>\n      <td>Afghanistan</td>\n      <td>2021</td>\n      <td>40,099,462</td>\n      <td>10,551,772</td>\n      <td>29,547,690</td>\n      <td>-</td>\n      <td>62.0</td>\n      <td>35.842</td>\n      <td>7.344</td>\n      <td>4.643</td>\n      <td>43.4</td>\n      <td>3.0</td>\n    </tr>\n    <tr>\n      <th>6</th>\n      <td>Albania</td>\n      <td>2018</td>\n      <td>2,866,376</td>\n      <td>1,728,969</td>\n      <td>1,137,407</td>\n      <td>105</td>\n      <td>79.0</td>\n      <td>10.517</td>\n      <td>8.308</td>\n      <td>1.44</td>\n      <td>8.3</td>\n      <td>0.0</td>\n    </tr>\n    <tr>\n      <th>...</th>\n      <td>...</td>\n      <td>...</td>\n      <td>...</td>\n      <td>...</td>\n      <td>...</td>\n      <td>...</td>\n      <td>...</td>\n      <td>...</td>\n      <td>...</td>\n      <td>...</td>\n      <td>...</td>\n      <td>...</td>\n    </tr>\n    <tr>\n      <th>1067</th>\n      <td>Zambia</td>\n      <td>2021</td>\n      <td>19,473,125</td>\n      <td>8,800,295</td>\n      <td>10,672,830</td>\n      <td>-</td>\n      <td>61.0</td>\n      <td>34.511</td>\n      <td>6.973</td>\n      <td>4.308</td>\n      <td>40.2</td>\n      <td>3.0</td>\n    </tr>\n    <tr>\n      <th>1069</th>\n      <td>Zimbabwe</td>\n      <td>2018</td>\n      <td>15,052,184</td>\n      <td>4,848,158</td>\n      <td>10,204,026</td>\n      <td>39</td>\n      <td>61.0</td>\n      <td>32.074</td>\n      <td>7.972</td>\n      <td>3.659</td>\n      <td>38.0</td>\n      <td>2.0</td>\n    </tr>\n    <tr>\n      <th>1070</th>\n      <td>Zimbabwe</td>\n      <td>2019</td>\n      <td>15,354,608</td>\n      <td>4,945,719</td>\n      <td>10,408,889</td>\n      <td>40</td>\n      <td>61.0</td>\n      <td>31.518</td>\n      <td>8.043</td>\n      <td>3.599</td>\n      <td>37.1</td>\n      <td>2.0</td>\n    </tr>\n    <tr>\n      <th>1071</th>\n      <td>Zimbabwe</td>\n      <td>2020</td>\n      <td>15,669,666</td>\n      <td>5,052,214</td>\n      <td>10,617,452</td>\n      <td>41</td>\n      <td>61.0</td>\n      <td>31.009</td>\n      <td>8.132</td>\n      <td>3.545</td>\n      <td>36.6</td>\n      <td>2.0</td>\n    </tr>\n    <tr>\n      <th>1072</th>\n      <td>Zimbabwe</td>\n      <td>2021</td>\n      <td>15,993,524</td>\n      <td>5,166,388</td>\n      <td>10,827,136</td>\n      <td>-</td>\n      <td>59.0</td>\n      <td>30.537</td>\n      <td>9.057</td>\n      <td>3.491</td>\n      <td>35.7</td>\n      <td>2.0</td>\n    </tr>\n  </tbody>\n</table>\n<p>864 rows × 12 columns</p>\n</div>"
     },
     "execution_count": 62,
     "metadata": {},
     "output_type": "execute_result"
    }
   ],
   "source": [
    "global_data1 = global_data[global_data[\"Total Population\"] != \"-\"]\n",
    "global_data1"
   ],
   "metadata": {
    "collapsed": false,
    "ExecuteTime": {
     "end_time": "2023-10-03T09:18:46.905409Z",
     "start_time": "2023-10-03T09:18:46.101355500Z"
    }
   },
   "id": "c20ea120309804b6"
  },
  {
   "cell_type": "markdown",
   "source": [
    "Получите описательную статистику по переменным (например, max(), min(),\n",
    "describe())"
   ],
   "metadata": {
    "collapsed": false
   },
   "id": "b127002822f16ef0"
  },
  {
   "cell_type": "code",
   "execution_count": 63,
   "outputs": [
    {
     "data": {
      "text/plain": "              Year  Birth Rate  Death Rate\ncount   864.000000  864.000000  864.000000\nmean   2019.500000   18.548384    7.889123\nstd       1.118682    9.887518    3.041385\nmin    2018.000000    0.000000    0.000000\n25%    2018.750000   10.500000    6.116500\n50%    2019.500000   15.628500    7.453500\n75%    2020.250000   25.565000    9.385000\nmax    2021.000000   46.127000   21.700000",
      "text/html": "<div>\n<style scoped>\n    .dataframe tbody tr th:only-of-type {\n        vertical-align: middle;\n    }\n\n    .dataframe tbody tr th {\n        vertical-align: top;\n    }\n\n    .dataframe thead th {\n        text-align: right;\n    }\n</style>\n<table border=\"1\" class=\"dataframe\">\n  <thead>\n    <tr style=\"text-align: right;\">\n      <th></th>\n      <th>Year</th>\n      <th>Birth Rate</th>\n      <th>Death Rate</th>\n    </tr>\n  </thead>\n  <tbody>\n    <tr>\n      <th>count</th>\n      <td>864.000000</td>\n      <td>864.000000</td>\n      <td>864.000000</td>\n    </tr>\n    <tr>\n      <th>mean</th>\n      <td>2019.500000</td>\n      <td>18.548384</td>\n      <td>7.889123</td>\n    </tr>\n    <tr>\n      <th>std</th>\n      <td>1.118682</td>\n      <td>9.887518</td>\n      <td>3.041385</td>\n    </tr>\n    <tr>\n      <th>min</th>\n      <td>2018.000000</td>\n      <td>0.000000</td>\n      <td>0.000000</td>\n    </tr>\n    <tr>\n      <th>25%</th>\n      <td>2018.750000</td>\n      <td>10.500000</td>\n      <td>6.116500</td>\n    </tr>\n    <tr>\n      <th>50%</th>\n      <td>2019.500000</td>\n      <td>15.628500</td>\n      <td>7.453500</td>\n    </tr>\n    <tr>\n      <th>75%</th>\n      <td>2020.250000</td>\n      <td>25.565000</td>\n      <td>9.385000</td>\n    </tr>\n    <tr>\n      <th>max</th>\n      <td>2021.000000</td>\n      <td>46.127000</td>\n      <td>21.700000</td>\n    </tr>\n  </tbody>\n</table>\n</div>"
     },
     "execution_count": 63,
     "metadata": {},
     "output_type": "execute_result"
    }
   ],
   "source": [
    "global_data1.describe()"
   ],
   "metadata": {
    "collapsed": false,
    "ExecuteTime": {
     "end_time": "2023-10-03T09:18:46.967909300Z",
     "start_time": "2023-10-03T09:18:46.132619800Z"
    }
   },
   "id": "ec4a923d93302385"
  },
  {
   "cell_type": "markdown",
   "source": [
    "Выполните сортировку данных по нескольким критериям"
   ],
   "metadata": {
    "collapsed": false
   },
   "id": "417dd3945270e5ef"
  },
  {
   "cell_type": "code",
   "execution_count": 64,
   "outputs": [
    {
     "data": {
      "text/plain": "               Country  Year Total Population Urban Population  \\\n1072          Zimbabwe  2021       15,993,524        5,166,388   \n225            Croatia  2021        3,879,000        2,245,088   \n922           Suriname  2021          612,985          405,913   \n230               Cuba  2021       11,256,372        8,700,275   \n600   Marshall Islands  2021           42,050           32,867   \n...                ...   ...              ...              ...   \n567         Madagascar  2018       26,846,541        9,984,497   \n562              Macao  2018          650,991          650,991   \n557         Luxembourg  2018          607,950          553,119   \n552          Lithuania  2018        2,801,543        1,896,056   \n537            Liberia  2018        4,889,391        2,500,972   \n\n     Rural Population Population Density Life Expectancy  Birth Rate  \\\n1072       10,827,136                  -            59.0      30.537   \n225         1,633,912                  -            76.0       9.400   \n922           207,072                  -            70.0      18.154   \n230         2,556,097                  -            74.0       8.922   \n600             9,183                  -            65.0      19.280   \n...               ...                ...             ...         ...   \n567        16,862,044                 46            65.0      32.088   \n562                 -             19,787            85.0      10.621   \n557            54,831                236            82.0      10.300   \n552           905,487                 45            76.0      10.000   \n537         2,388,419                 51            61.0      32.706   \n\n      Death Rate Fertility Rate Infant Mortality Rate Growth Rate  \n1072       9.057          3.491                  35.7         2.0  \n225       16.200           1.62                   3.9        -4.0  \n922        8.667          2.348                  15.4         1.0  \n230       14.652          1.442                   4.0         0.0  \n600        7.556          2.729                  24.8        -3.0  \n...          ...            ...                   ...         ...  \n567        6.736          4.043                  45.2         3.0  \n562        3.860          1.104                     -         2.0  \n557        7.100           1.38                   2.3         2.0  \n552       14.100           1.63                   3.3        -1.0  \n537        8.793          4.336                  60.9         2.0  \n\n[864 rows x 12 columns]",
      "text/html": "<div>\n<style scoped>\n    .dataframe tbody tr th:only-of-type {\n        vertical-align: middle;\n    }\n\n    .dataframe tbody tr th {\n        vertical-align: top;\n    }\n\n    .dataframe thead th {\n        text-align: right;\n    }\n</style>\n<table border=\"1\" class=\"dataframe\">\n  <thead>\n    <tr style=\"text-align: right;\">\n      <th></th>\n      <th>Country</th>\n      <th>Year</th>\n      <th>Total Population</th>\n      <th>Urban Population</th>\n      <th>Rural Population</th>\n      <th>Population Density</th>\n      <th>Life Expectancy</th>\n      <th>Birth Rate</th>\n      <th>Death Rate</th>\n      <th>Fertility Rate</th>\n      <th>Infant Mortality Rate</th>\n      <th>Growth Rate</th>\n    </tr>\n  </thead>\n  <tbody>\n    <tr>\n      <th>1072</th>\n      <td>Zimbabwe</td>\n      <td>2021</td>\n      <td>15,993,524</td>\n      <td>5,166,388</td>\n      <td>10,827,136</td>\n      <td>-</td>\n      <td>59.0</td>\n      <td>30.537</td>\n      <td>9.057</td>\n      <td>3.491</td>\n      <td>35.7</td>\n      <td>2.0</td>\n    </tr>\n    <tr>\n      <th>225</th>\n      <td>Croatia</td>\n      <td>2021</td>\n      <td>3,879,000</td>\n      <td>2,245,088</td>\n      <td>1,633,912</td>\n      <td>-</td>\n      <td>76.0</td>\n      <td>9.400</td>\n      <td>16.200</td>\n      <td>1.62</td>\n      <td>3.9</td>\n      <td>-4.0</td>\n    </tr>\n    <tr>\n      <th>922</th>\n      <td>Suriname</td>\n      <td>2021</td>\n      <td>612,985</td>\n      <td>405,913</td>\n      <td>207,072</td>\n      <td>-</td>\n      <td>70.0</td>\n      <td>18.154</td>\n      <td>8.667</td>\n      <td>2.348</td>\n      <td>15.4</td>\n      <td>1.0</td>\n    </tr>\n    <tr>\n      <th>230</th>\n      <td>Cuba</td>\n      <td>2021</td>\n      <td>11,256,372</td>\n      <td>8,700,275</td>\n      <td>2,556,097</td>\n      <td>-</td>\n      <td>74.0</td>\n      <td>8.922</td>\n      <td>14.652</td>\n      <td>1.442</td>\n      <td>4.0</td>\n      <td>0.0</td>\n    </tr>\n    <tr>\n      <th>600</th>\n      <td>Marshall Islands</td>\n      <td>2021</td>\n      <td>42,050</td>\n      <td>32,867</td>\n      <td>9,183</td>\n      <td>-</td>\n      <td>65.0</td>\n      <td>19.280</td>\n      <td>7.556</td>\n      <td>2.729</td>\n      <td>24.8</td>\n      <td>-3.0</td>\n    </tr>\n    <tr>\n      <th>...</th>\n      <td>...</td>\n      <td>...</td>\n      <td>...</td>\n      <td>...</td>\n      <td>...</td>\n      <td>...</td>\n      <td>...</td>\n      <td>...</td>\n      <td>...</td>\n      <td>...</td>\n      <td>...</td>\n      <td>...</td>\n    </tr>\n    <tr>\n      <th>567</th>\n      <td>Madagascar</td>\n      <td>2018</td>\n      <td>26,846,541</td>\n      <td>9,984,497</td>\n      <td>16,862,044</td>\n      <td>46</td>\n      <td>65.0</td>\n      <td>32.088</td>\n      <td>6.736</td>\n      <td>4.043</td>\n      <td>45.2</td>\n      <td>3.0</td>\n    </tr>\n    <tr>\n      <th>562</th>\n      <td>Macao</td>\n      <td>2018</td>\n      <td>650,991</td>\n      <td>650,991</td>\n      <td>-</td>\n      <td>19,787</td>\n      <td>85.0</td>\n      <td>10.621</td>\n      <td>3.860</td>\n      <td>1.104</td>\n      <td>-</td>\n      <td>2.0</td>\n    </tr>\n    <tr>\n      <th>557</th>\n      <td>Luxembourg</td>\n      <td>2018</td>\n      <td>607,950</td>\n      <td>553,119</td>\n      <td>54,831</td>\n      <td>236</td>\n      <td>82.0</td>\n      <td>10.300</td>\n      <td>7.100</td>\n      <td>1.38</td>\n      <td>2.3</td>\n      <td>2.0</td>\n    </tr>\n    <tr>\n      <th>552</th>\n      <td>Lithuania</td>\n      <td>2018</td>\n      <td>2,801,543</td>\n      <td>1,896,056</td>\n      <td>905,487</td>\n      <td>45</td>\n      <td>76.0</td>\n      <td>10.000</td>\n      <td>14.100</td>\n      <td>1.63</td>\n      <td>3.3</td>\n      <td>-1.0</td>\n    </tr>\n    <tr>\n      <th>537</th>\n      <td>Liberia</td>\n      <td>2018</td>\n      <td>4,889,391</td>\n      <td>2,500,972</td>\n      <td>2,388,419</td>\n      <td>51</td>\n      <td>61.0</td>\n      <td>32.706</td>\n      <td>8.793</td>\n      <td>4.336</td>\n      <td>60.9</td>\n      <td>2.0</td>\n    </tr>\n  </tbody>\n</table>\n<p>864 rows × 12 columns</p>\n</div>"
     },
     "execution_count": 64,
     "metadata": {},
     "output_type": "execute_result"
    }
   ],
   "source": [
    "global_data1.sort_values(by='Year', ascending=False)"
   ],
   "metadata": {
    "collapsed": false,
    "ExecuteTime": {
     "end_time": "2023-10-03T09:18:47.064189Z",
     "start_time": "2023-10-03T09:18:46.168746600Z"
    }
   },
   "id": "56aaeff856d0270f"
  },
  {
   "cell_type": "code",
   "execution_count": 65,
   "outputs": [
    {
     "data": {
      "text/plain": "          Country  Year Total Population Urban Population Rural Population  \\\n1072     Zimbabwe  2021       15,993,524        5,166,388       10,827,136   \n1071     Zimbabwe  2020       15,669,666        5,052,214       10,617,452   \n1070     Zimbabwe  2019       15,354,608        4,945,719       10,408,889   \n1069     Zimbabwe  2018       15,052,184        4,848,158       10,204,026   \n1067       Zambia  2021       19,473,125        8,800,295       10,672,830   \n...           ...   ...              ...              ...              ...   \n9         Albania  2021        2,811,666        1,770,478        1,041,188   \n3     Afghanistan  2020       38,972,230       10,142,913       28,829,317   \n2     Afghanistan  2019       37,769,499        9,727,157       28,042,342   \n4     Afghanistan  2021       40,099,462       10,551,772       29,547,690   \n1     Afghanistan  2018       36,686,784        9,353,296       27,333,488   \n\n     Population Density Life Expectancy  Birth Rate  Death Rate  \\\n1072                  -            59.0      30.537       9.057   \n1071                 41            61.0      31.009       8.132   \n1070                 40            61.0      31.518       8.043   \n1069                 39            61.0      32.074       7.972   \n1067                  -            61.0      34.511       6.973   \n...                 ...             ...         ...         ...   \n9                     -            76.0      10.240      11.325   \n3                    60            63.0      36.051       7.113   \n2                    58            64.0      36.466       6.791   \n4                     -            62.0      35.842       7.344   \n1                    56            63.0      36.927       6.981   \n\n     Fertility Rate Infant Mortality Rate Growth Rate  \n1072          3.491                  35.7         2.0  \n1071          3.545                  36.6         2.0  \n1070          3.599                  37.1         2.0  \n1069          3.659                  38.0         2.0  \n1067          4.308                  40.2         3.0  \n...             ...                   ...         ...  \n9              1.39                   8.4        -1.0  \n3              4.75                  44.8         3.0  \n2              4.87                  46.3         3.0  \n4             4.643                  43.4         3.0  \n1             5.002                  47.8         3.0  \n\n[864 rows x 12 columns]",
      "text/html": "<div>\n<style scoped>\n    .dataframe tbody tr th:only-of-type {\n        vertical-align: middle;\n    }\n\n    .dataframe tbody tr th {\n        vertical-align: top;\n    }\n\n    .dataframe thead th {\n        text-align: right;\n    }\n</style>\n<table border=\"1\" class=\"dataframe\">\n  <thead>\n    <tr style=\"text-align: right;\">\n      <th></th>\n      <th>Country</th>\n      <th>Year</th>\n      <th>Total Population</th>\n      <th>Urban Population</th>\n      <th>Rural Population</th>\n      <th>Population Density</th>\n      <th>Life Expectancy</th>\n      <th>Birth Rate</th>\n      <th>Death Rate</th>\n      <th>Fertility Rate</th>\n      <th>Infant Mortality Rate</th>\n      <th>Growth Rate</th>\n    </tr>\n  </thead>\n  <tbody>\n    <tr>\n      <th>1072</th>\n      <td>Zimbabwe</td>\n      <td>2021</td>\n      <td>15,993,524</td>\n      <td>5,166,388</td>\n      <td>10,827,136</td>\n      <td>-</td>\n      <td>59.0</td>\n      <td>30.537</td>\n      <td>9.057</td>\n      <td>3.491</td>\n      <td>35.7</td>\n      <td>2.0</td>\n    </tr>\n    <tr>\n      <th>1071</th>\n      <td>Zimbabwe</td>\n      <td>2020</td>\n      <td>15,669,666</td>\n      <td>5,052,214</td>\n      <td>10,617,452</td>\n      <td>41</td>\n      <td>61.0</td>\n      <td>31.009</td>\n      <td>8.132</td>\n      <td>3.545</td>\n      <td>36.6</td>\n      <td>2.0</td>\n    </tr>\n    <tr>\n      <th>1070</th>\n      <td>Zimbabwe</td>\n      <td>2019</td>\n      <td>15,354,608</td>\n      <td>4,945,719</td>\n      <td>10,408,889</td>\n      <td>40</td>\n      <td>61.0</td>\n      <td>31.518</td>\n      <td>8.043</td>\n      <td>3.599</td>\n      <td>37.1</td>\n      <td>2.0</td>\n    </tr>\n    <tr>\n      <th>1069</th>\n      <td>Zimbabwe</td>\n      <td>2018</td>\n      <td>15,052,184</td>\n      <td>4,848,158</td>\n      <td>10,204,026</td>\n      <td>39</td>\n      <td>61.0</td>\n      <td>32.074</td>\n      <td>7.972</td>\n      <td>3.659</td>\n      <td>38.0</td>\n      <td>2.0</td>\n    </tr>\n    <tr>\n      <th>1067</th>\n      <td>Zambia</td>\n      <td>2021</td>\n      <td>19,473,125</td>\n      <td>8,800,295</td>\n      <td>10,672,830</td>\n      <td>-</td>\n      <td>61.0</td>\n      <td>34.511</td>\n      <td>6.973</td>\n      <td>4.308</td>\n      <td>40.2</td>\n      <td>3.0</td>\n    </tr>\n    <tr>\n      <th>...</th>\n      <td>...</td>\n      <td>...</td>\n      <td>...</td>\n      <td>...</td>\n      <td>...</td>\n      <td>...</td>\n      <td>...</td>\n      <td>...</td>\n      <td>...</td>\n      <td>...</td>\n      <td>...</td>\n      <td>...</td>\n    </tr>\n    <tr>\n      <th>9</th>\n      <td>Albania</td>\n      <td>2021</td>\n      <td>2,811,666</td>\n      <td>1,770,478</td>\n      <td>1,041,188</td>\n      <td>-</td>\n      <td>76.0</td>\n      <td>10.240</td>\n      <td>11.325</td>\n      <td>1.39</td>\n      <td>8.4</td>\n      <td>-1.0</td>\n    </tr>\n    <tr>\n      <th>3</th>\n      <td>Afghanistan</td>\n      <td>2020</td>\n      <td>38,972,230</td>\n      <td>10,142,913</td>\n      <td>28,829,317</td>\n      <td>60</td>\n      <td>63.0</td>\n      <td>36.051</td>\n      <td>7.113</td>\n      <td>4.75</td>\n      <td>44.8</td>\n      <td>3.0</td>\n    </tr>\n    <tr>\n      <th>2</th>\n      <td>Afghanistan</td>\n      <td>2019</td>\n      <td>37,769,499</td>\n      <td>9,727,157</td>\n      <td>28,042,342</td>\n      <td>58</td>\n      <td>64.0</td>\n      <td>36.466</td>\n      <td>6.791</td>\n      <td>4.87</td>\n      <td>46.3</td>\n      <td>3.0</td>\n    </tr>\n    <tr>\n      <th>4</th>\n      <td>Afghanistan</td>\n      <td>2021</td>\n      <td>40,099,462</td>\n      <td>10,551,772</td>\n      <td>29,547,690</td>\n      <td>-</td>\n      <td>62.0</td>\n      <td>35.842</td>\n      <td>7.344</td>\n      <td>4.643</td>\n      <td>43.4</td>\n      <td>3.0</td>\n    </tr>\n    <tr>\n      <th>1</th>\n      <td>Afghanistan</td>\n      <td>2018</td>\n      <td>36,686,784</td>\n      <td>9,353,296</td>\n      <td>27,333,488</td>\n      <td>56</td>\n      <td>63.0</td>\n      <td>36.927</td>\n      <td>6.981</td>\n      <td>5.002</td>\n      <td>47.8</td>\n      <td>3.0</td>\n    </tr>\n  </tbody>\n</table>\n<p>864 rows × 12 columns</p>\n</div>"
     },
     "execution_count": 65,
     "metadata": {},
     "output_type": "execute_result"
    }
   ],
   "source": [
    "global_data1.sort_values(by='Country', ascending=False)"
   ],
   "metadata": {
    "collapsed": false,
    "ExecuteTime": {
     "end_time": "2023-10-03T09:18:47.079843700Z",
     "start_time": "2023-10-03T09:18:46.199999700Z"
    }
   },
   "id": "950e37b317ec6d92"
  },
  {
   "cell_type": "markdown",
   "source": [
    "Выведите название страны, которая имеет максимальную численность населения"
   ],
   "metadata": {
    "collapsed": false
   },
   "id": "891a6d8b5d6e4555"
  },
  {
   "cell_type": "code",
   "execution_count": 66,
   "outputs": [
    {
     "data": {
      "text/plain": "832    Seychelles\nName: Country, dtype: object"
     },
     "execution_count": 66,
     "metadata": {},
     "output_type": "execute_result"
    }
   ],
   "source": [
    "max_population_county = global_data1[global_data1['Total Population'] == global_data1['Total Population'].max()]['Country']\n",
    "max_population_county"
   ],
   "metadata": {
    "collapsed": false,
    "ExecuteTime": {
     "end_time": "2023-10-03T09:18:47.079843700Z",
     "start_time": "2023-10-03T09:18:46.238686Z"
    }
   },
   "id": "98b50ba0c3442982"
  },
  {
   "cell_type": "markdown",
   "source": [
    "Выведите название страны, которая имеет минимальную численность населения"
   ],
   "metadata": {
    "collapsed": false
   },
   "id": "12a1f136fdf3655d"
  },
  {
   "cell_type": "code",
   "execution_count": 67,
   "outputs": [
    {
     "data": {
      "text/plain": "257    Djibouti\nName: Country, dtype: object"
     },
     "execution_count": 67,
     "metadata": {},
     "output_type": "execute_result"
    }
   ],
   "source": [
    "min_population_county = global_data1[global_data1['Total Population'] == global_data1['Total Population'].min()]['Country']\n",
    "min_population_county"
   ],
   "metadata": {
    "collapsed": false,
    "ExecuteTime": {
     "end_time": "2023-10-03T09:18:47.079843700Z",
     "start_time": "2023-10-03T09:18:46.266656600Z"
    }
   },
   "id": "c800b73c9c946601"
  },
  {
   "cell_type": "markdown",
   "source": [
    "Экспорт фрейма в MS Excel"
   ],
   "metadata": {
    "collapsed": false
   },
   "id": "fae50d7520ae21d9"
  },
  {
   "cell_type": "code",
   "execution_count": 68,
   "outputs": [],
   "source": [
    "global_data1.to_excel(r'C:\\Users\\Aiana Sagynbek\\PycharmProjects\\bigDataLabs\\labWork2\\myData.xlsx')"
   ],
   "metadata": {
    "collapsed": false,
    "ExecuteTime": {
     "end_time": "2023-10-03T09:18:48.026568500Z",
     "start_time": "2023-10-03T09:18:46.282293500Z"
    }
   },
   "id": "29f27187bf657f91"
  },
  {
   "cell_type": "markdown",
   "source": [],
   "metadata": {
    "collapsed": false
   },
   "id": "564795d96d3ba2df"
  },
  {
   "cell_type": "code",
   "execution_count": 68,
   "outputs": [],
   "source": [],
   "metadata": {
    "collapsed": false,
    "ExecuteTime": {
     "end_time": "2023-10-03T09:18:48.073447300Z",
     "start_time": "2023-10-03T09:18:47.346600200Z"
    }
   },
   "id": "acd7f83ff5e7e46"
  }
 ],
 "metadata": {
  "kernelspec": {
   "display_name": "Python 3",
   "language": "python",
   "name": "python3"
  },
  "language_info": {
   "codemirror_mode": {
    "name": "ipython",
    "version": 2
   },
   "file_extension": ".py",
   "mimetype": "text/x-python",
   "name": "python",
   "nbconvert_exporter": "python",
   "pygments_lexer": "ipython2",
   "version": "2.7.6"
  }
 },
 "nbformat": 4,
 "nbformat_minor": 5
}
